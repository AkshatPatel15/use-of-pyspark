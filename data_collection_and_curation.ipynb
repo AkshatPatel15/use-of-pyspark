{
  "nbformat": 4,
  "nbformat_minor": 0,
  "metadata": {
    "colab": {
      "provenance": [],
      "collapsed_sections": []
    },
    "kernelspec": {
      "name": "python3",
      "display_name": "Python 3"
    },
    "language_info": {
      "name": "python"
    }
  },
  "cells": [
    {
      "cell_type": "markdown",
      "source": [
        "# Installation of PySpark"
      ],
      "metadata": {
        "id": "toWaRgqW70v8"
      }
    },
    {
      "cell_type": "code",
      "execution_count": null,
      "metadata": {
        "colab": {
          "base_uri": "https://localhost:8080/"
        },
        "id": "j6vjGwlWynNA",
        "outputId": "1dd93289-a25d-4020-996b-f55083e98d2c"
      },
      "outputs": [
        {
          "output_type": "stream",
          "name": "stdout",
          "text": [
            "Looking in indexes: https://pypi.org/simple, https://us-python.pkg.dev/colab-wheels/public/simple/\n",
            "Collecting pyspark\n",
            "  Downloading pyspark-3.3.0.tar.gz (281.3 MB)\n",
            "\u001b[K     |████████████████████████████████| 281.3 MB 49 kB/s \n",
            "\u001b[?25hCollecting py4j==0.10.9.5\n",
            "  Downloading py4j-0.10.9.5-py2.py3-none-any.whl (199 kB)\n",
            "\u001b[K     |████████████████████████████████| 199 kB 54.1 MB/s \n",
            "\u001b[?25hBuilding wheels for collected packages: pyspark\n",
            "  Building wheel for pyspark (setup.py) ... \u001b[?25l\u001b[?25hdone\n",
            "  Created wheel for pyspark: filename=pyspark-3.3.0-py2.py3-none-any.whl size=281764026 sha256=c78054bbebd45c82b65b4b747689e82719e3e6b7ce9059b033afd6fe69f28c6d\n",
            "  Stored in directory: /root/.cache/pip/wheels/7a/8e/1b/f73a52650d2e5f337708d9f6a1750d451a7349a867f928b885\n",
            "Successfully built pyspark\n",
            "Installing collected packages: py4j, pyspark\n",
            "Successfully installed py4j-0.10.9.5 pyspark-3.3.0\n"
          ]
        }
      ],
      "source": [
        "! pip install pyspark"
      ]
    },
    {
      "cell_type": "code",
      "source": [
        "! ls"
      ],
      "metadata": {
        "colab": {
          "base_uri": "https://localhost:8080/"
        },
        "id": "2GOGwB1ay8Md",
        "outputId": "5cae06fa-7cee-4185-db71-4a28b9b8d853"
      },
      "execution_count": null,
      "outputs": [
        {
          "output_type": "stream",
          "name": "stdout",
          "text": [
            "sample_data\n"
          ]
        }
      ]
    },
    {
      "cell_type": "markdown",
      "source": [
        "# Answer 1: Import the data [covid-19.csv] using inferred schema. Log the time taken to import."
      ],
      "metadata": {
        "id": "7wIC3-GEJPMR"
      }
    },
    {
      "cell_type": "markdown",
      "source": [
        "###### I have kept all my files including csv files of this assignment. To import that files in this coleb I have to connect with my google drive."
      ],
      "metadata": {
        "id": "VIJsgM3b8EE1"
      }
    },
    {
      "cell_type": "code",
      "source": [
        "from google.colab import drive\n",
        "drive.mount('/content/drive')"
      ],
      "metadata": {
        "colab": {
          "base_uri": "https://localhost:8080/"
        },
        "id": "ZvWQUmEUy98j",
        "outputId": "f7051946-f99e-486b-9697-de8e410b0c00"
      },
      "execution_count": null,
      "outputs": [
        {
          "output_type": "stream",
          "name": "stdout",
          "text": [
            "Drive already mounted at /content/drive; to attempt to forcibly remount, call drive.mount(\"/content/drive\", force_remount=True).\n"
          ]
        }
      ]
    },
    {
      "cell_type": "markdown",
      "source": [
        "##### csv files in my google drive"
      ],
      "metadata": {
        "id": "Jyt0MDRI8Y_U"
      }
    },
    {
      "cell_type": "code",
      "source": [
        "! ls drive/MyDrive/01-BDAT/2nd\\ semester/Data\\ collection\\ and\\ curation/assignment\\ 1"
      ],
      "metadata": {
        "colab": {
          "base_uri": "https://localhost:8080/"
        },
        "id": "QEE7IjJQzNJZ",
        "outputId": "bfbcd33a-4de3-4dc4-f9be-27e1e2de6151"
      },
      "execution_count": null,
      "outputs": [
        {
          "output_type": "stream",
          "name": "stdout",
          "text": [
            "'BDAT1008-2022F-Assignment 1.docx'   country.csv   covid-19.csv\n"
          ]
        }
      ]
    },
    {
      "cell_type": "markdown",
      "source": [
        "# Copy csv file to google colab from google drive"
      ],
      "metadata": {
        "id": "-4o0k5HY8fVY"
      }
    },
    {
      "cell_type": "code",
      "source": [
        "! cp drive/MyDrive/01-BDAT/2nd\\ semester/Data\\ collection\\ and\\ curation/assignment\\ 1/country.csv country.csv"
      ],
      "metadata": {
        "id": "uXD89WLg0OyP"
      },
      "execution_count": null,
      "outputs": []
    },
    {
      "cell_type": "code",
      "source": [
        "!  cp drive/MyDrive/01-BDAT/2nd\\ semester/Data\\ collection\\ and\\ curation/assignment\\ 1/covid-19.csv covid-19.csv"
      ],
      "metadata": {
        "id": "h_d6Cx5f0Ovo"
      },
      "execution_count": null,
      "outputs": []
    },
    {
      "cell_type": "code",
      "source": [
        "! ls"
      ],
      "metadata": {
        "colab": {
          "base_uri": "https://localhost:8080/"
        },
        "id": "gr-59UOt0Osb",
        "outputId": "edab50e6-bc33-4717-ce21-4c532dd8bb7f"
      },
      "execution_count": null,
      "outputs": [
        {
          "output_type": "stream",
          "name": "stdout",
          "text": [
            "country.csv  covid-19.csv  drive  sample_data\n"
          ]
        }
      ]
    },
    {
      "cell_type": "markdown",
      "source": [
        "# Start of spark session"
      ],
      "metadata": {
        "id": "7jzmnErM8kh7"
      }
    },
    {
      "cell_type": "code",
      "source": [
        "from pyspark.sql import SparkSession\n",
        "spark = SparkSession.Builder().getOrCreate()\n",
        "spark"
      ],
      "metadata": {
        "colab": {
          "base_uri": "https://localhost:8080/",
          "height": 221
        },
        "id": "2abrVTup0OfZ",
        "outputId": "14c6eaaa-7d45-46a3-d097-4fe16b32d47a"
      },
      "execution_count": null,
      "outputs": [
        {
          "output_type": "execute_result",
          "data": {
            "text/plain": [
              "<pyspark.sql.session.SparkSession at 0x7fce5e7399d0>"
            ],
            "text/html": [
              "\n",
              "            <div>\n",
              "                <p><b>SparkSession - in-memory</b></p>\n",
              "                \n",
              "        <div>\n",
              "            <p><b>SparkContext</b></p>\n",
              "\n",
              "            <p><a href=\"http://444a08efc2de:4040\">Spark UI</a></p>\n",
              "\n",
              "            <dl>\n",
              "              <dt>Version</dt>\n",
              "                <dd><code>v3.3.0</code></dd>\n",
              "              <dt>Master</dt>\n",
              "                <dd><code>local[*]</code></dd>\n",
              "              <dt>AppName</dt>\n",
              "                <dd><code>pyspark-shell</code></dd>\n",
              "            </dl>\n",
              "        </div>\n",
              "        \n",
              "            </div>\n",
              "        "
            ]
          },
          "metadata": {},
          "execution_count": 10
        }
      ]
    },
    {
      "cell_type": "markdown",
      "source": [
        "# Answer 2: Define the schema and then import the data using your defined schema. Log the time taken to import"
      ],
      "metadata": {
        "id": "wzWv03EPJelv"
      }
    },
    {
      "cell_type": "code",
      "source": [
        "from pyspark.sql.types import *\n",
        "country_schema = StructType([\n",
        "    StructField(\"country\", StringType(), True),\n",
        "    StructField(\"continent\", StringType(), True)\n",
        "    ])\n",
        "covid_schema = StructType([\n",
        "    StructField(\"date\", TimestampType(), True),\n",
        "    StructField(\"country\", StringType(), True),\n",
        "    StructField(\"cumulative_total_cases\", IntegerType(), True),\n",
        "    StructField(\"daily_new_cases\", FloatType(), True),\n",
        "    StructField(\"active_cases\", FloatType(), True),\n",
        "    StructField(\"cumulative_total_deaths\", FloatType(), True),\n",
        "    StructField(\"daily_new_deaths\", FloatType(), True),\n",
        "    ])\n",
        "\n"
      ],
      "metadata": {
        "id": "yCmPBHlv28zw"
      },
      "execution_count": null,
      "outputs": []
    },
    {
      "cell_type": "code",
      "source": [
        "sp_country = spark.read.csv(\"country.csv\",header=True,schema=country_schema)\n",
        "sp_country.show(5) "
      ],
      "metadata": {
        "colab": {
          "base_uri": "https://localhost:8080/"
        },
        "id": "n1fcq9P54y3n",
        "outputId": "9ed0a3c0-5767-40a8-9a4c-c56fbf3e4e56"
      },
      "execution_count": null,
      "outputs": [
        {
          "output_type": "stream",
          "name": "stdout",
          "text": [
            "+-----------+---------+\n",
            "|    country|continent|\n",
            "+-----------+---------+\n",
            "|Afghanistan|     Asia|\n",
            "|    Albania|   Europe|\n",
            "|    Algeria|   Africa|\n",
            "|    Andorra|   Europe|\n",
            "|     Angola|   Africa|\n",
            "+-----------+---------+\n",
            "only showing top 5 rows\n",
            "\n"
          ]
        }
      ]
    },
    {
      "cell_type": "code",
      "source": [
        "sp_country.printSchema()"
      ],
      "metadata": {
        "colab": {
          "base_uri": "https://localhost:8080/"
        },
        "id": "cfQT6T8t7IwQ",
        "outputId": "19fee71d-464e-4e8d-d1a2-db778e137c67"
      },
      "execution_count": null,
      "outputs": [
        {
          "output_type": "stream",
          "name": "stdout",
          "text": [
            "root\n",
            " |-- country: string (nullable = true)\n",
            " |-- continent: string (nullable = true)\n",
            "\n"
          ]
        }
      ]
    },
    {
      "cell_type": "code",
      "source": [
        "sp_covid = spark.read.csv(\"covid-19.csv\",header=True,schema = covid_schema)\n",
        "sp_covid.show(5)"
      ],
      "metadata": {
        "colab": {
          "base_uri": "https://localhost:8080/"
        },
        "id": "0lIHdO3t4NlX",
        "outputId": "8fa700af-2c7c-4557-efcf-742f116882d3"
      },
      "execution_count": null,
      "outputs": [
        {
          "output_type": "stream",
          "name": "stdout",
          "text": [
            "+-------------------+-----------+----------------------+---------------+------------+-----------------------+----------------+\n",
            "|               date|    country|cumulative_total_cases|daily_new_cases|active_cases|cumulative_total_deaths|daily_new_deaths|\n",
            "+-------------------+-----------+----------------------+---------------+------------+-----------------------+----------------+\n",
            "|2020-02-15 00:00:00|Afghanistan|                     0|           null|         0.0|                    0.0|            null|\n",
            "|2020-02-16 00:00:00|Afghanistan|                     0|           null|         0.0|                    0.0|            null|\n",
            "|2020-02-17 00:00:00|Afghanistan|                     0|           null|         0.0|                    0.0|            null|\n",
            "|2020-02-18 00:00:00|Afghanistan|                     0|           null|         0.0|                    0.0|            null|\n",
            "|2020-02-19 00:00:00|Afghanistan|                     0|           null|         0.0|                    0.0|            null|\n",
            "+-------------------+-----------+----------------------+---------------+------------+-----------------------+----------------+\n",
            "only showing top 5 rows\n",
            "\n"
          ]
        }
      ]
    },
    {
      "cell_type": "code",
      "source": [
        "sp_covid.printSchema()"
      ],
      "metadata": {
        "colab": {
          "base_uri": "https://localhost:8080/"
        },
        "id": "yKW2EQPf7njw",
        "outputId": "f63789ca-e4a0-4532-b603-fa78ce93d574"
      },
      "execution_count": null,
      "outputs": [
        {
          "output_type": "stream",
          "name": "stdout",
          "text": [
            "root\n",
            " |-- date: timestamp (nullable = true)\n",
            " |-- country: string (nullable = true)\n",
            " |-- cumulative_total_cases: integer (nullable = true)\n",
            " |-- daily_new_cases: float (nullable = true)\n",
            " |-- active_cases: float (nullable = true)\n",
            " |-- cumulative_total_deaths: float (nullable = true)\n",
            " |-- daily_new_deaths: float (nullable = true)\n",
            "\n"
          ]
        }
      ]
    },
    {
      "cell_type": "markdown",
      "source": [
        "# Question 3 : Would you recommend creating a schema first before importing the data? Why?\n"
      ],
      "metadata": {
        "id": "MoxRvvVXJllU"
      }
    },
    {
      "cell_type": "markdown",
      "source": [
        "# Answer 3: It is helpful to create schema while importing data as it gives opportunity to set data types of each variable manually."
      ],
      "metadata": {
        "id": "hA5InlP9agL7"
      }
    },
    {
      "cell_type": "markdown",
      "source": [
        "# Answer : 4 Provide summary statistics on the dataset"
      ],
      "metadata": {
        "id": "NujCJFy0JvNW"
      }
    },
    {
      "cell_type": "code",
      "source": [
        "sp_covid.describe().show()\n",
        "sp_country.describe().show()"
      ],
      "metadata": {
        "colab": {
          "base_uri": "https://localhost:8080/"
        },
        "id": "tQJLJzmN7xy2",
        "outputId": "a7f3aac4-1c7b-4566-fea7-85b928275343"
      },
      "execution_count": null,
      "outputs": [
        {
          "output_type": "stream",
          "name": "stdout",
          "text": [
            "+-------+-----------+----------------------+------------------+-----------------+-----------------------+------------------+\n",
            "|summary|    country|cumulative_total_cases|   daily_new_cases|     active_cases|cumulative_total_deaths|  daily_new_deaths|\n",
            "+-------+-----------+----------------------+------------------+-----------------+-----------------------+------------------+\n",
            "|  count|     184787|                184787|            174329|           166747|                 178227|            157850|\n",
            "|   mean|       null|     725108.8640434663|2987.6332853397885|62392.82505232478|     13885.998125985401|  39.8318340196389|\n",
            "| stddev|       null|     3681471.361327732|17803.232663111467|395564.1378092467|      60495.21047198393|181.10276967779453|\n",
            "|    min|Afghanistan|                     0|            -322.0|         -14321.0|                    0.0|             -39.0|\n",
            "|    max|   Zimbabwe|              84209473|          909610.0|      1.7935434E7|              1026646.0|            5093.0|\n",
            "+-------+-----------+----------------------+------------------+-----------------+-----------------------+------------------+\n",
            "\n",
            "+-------+-----------+-------------+\n",
            "|summary|    country|    continent|\n",
            "+-------+-----------+-------------+\n",
            "|  count|        226|          226|\n",
            "|   mean|       null|         null|\n",
            "| stddev|       null|         null|\n",
            "|    min|Afghanistan|       Africa|\n",
            "|    max|   Zimbabwe|South America|\n",
            "+-------+-----------+-------------+\n",
            "\n"
          ]
        }
      ]
    },
    {
      "cell_type": "code",
      "source": [
        "sp_covid.createOrReplaceGlobalTempView('covid')"
      ],
      "metadata": {
        "id": "U8UI0SEGkibs"
      },
      "execution_count": null,
      "outputs": []
    },
    {
      "cell_type": "markdown",
      "source": [
        "# Answer 5: Identify the top 10 countries suffering from covid-19 (you will define the criteria, whether based on death ratio, or total confirmed cases, etc.).\n"
      ],
      "metadata": {
        "id": "izQKmNUqUO99"
      }
    },
    {
      "cell_type": "code",
      "source": [
        "spark.sql(\"select country, max(cumulative_total_cases) from global_temp.covid group by country order by max(cumulative_total_cases) desc limit 10\").show()"
      ],
      "metadata": {
        "id": "rva9Agt-S6b5",
        "outputId": "a3af32b2-ed46-4590-8c2f-f0ee064a7016",
        "colab": {
          "base_uri": "https://localhost:8080/"
        }
      },
      "execution_count": null,
      "outputs": [
        {
          "output_type": "stream",
          "name": "stdout",
          "text": [
            "+-----------+---------------------------+\n",
            "|    country|max(cumulative_total_cases)|\n",
            "+-----------+---------------------------+\n",
            "|        USA|                   84209473|\n",
            "|      India|                   43121599|\n",
            "|     Brazil|                   30682094|\n",
            "|     France|                   29160802|\n",
            "|    Germany|                   25774509|\n",
            "|         UK|                   22159805|\n",
            "|     Russia|                   18255337|\n",
            "|South Korea|                   17756627|\n",
            "|      Italy|                   17030711|\n",
            "|     Turkey|                   15053168|\n",
            "+-----------+---------------------------+\n",
            "\n"
          ]
        }
      ]
    },
    {
      "cell_type": "code",
      "source": [
        "spark.sql(\"select country, sum(daily_new_cases) from global_temp.covid group by country order by sum(daily_new_cases) desc limit 10\").show()"
      ],
      "metadata": {
        "id": "dvWCdlJoUHpT",
        "outputId": "991769aa-098d-4193-ab98-62961cbb81ba",
        "colab": {
          "base_uri": "https://localhost:8080/"
        }
      },
      "execution_count": null,
      "outputs": [
        {
          "output_type": "stream",
          "name": "stdout",
          "text": [
            "+-----------+--------------------+\n",
            "|    country|sum(daily_new_cases)|\n",
            "+-----------+--------------------+\n",
            "|        USA|         8.4209458E7|\n",
            "|      India|         4.3121596E7|\n",
            "|     Brazil|         3.0682093E7|\n",
            "|     France|          2.916079E7|\n",
            "|    Germany|         2.5774493E7|\n",
            "|         UK|         2.2159772E7|\n",
            "|     Russia|         1.8255335E7|\n",
            "|South Korea|         1.7756599E7|\n",
            "|      Italy|         1.7030708E7|\n",
            "|     Turkey|         1.5053165E7|\n",
            "+-----------+--------------------+\n",
            "\n"
          ]
        }
      ]
    },
    {
      "cell_type": "code",
      "source": [
        "spark.sql(\"select country, max(cumulative_total_deaths) from global_temp.covid group by country order by max(cumulative_total_deaths) desc limit 10\").show()"
      ],
      "metadata": {
        "id": "FoKtsT6xFIC3",
        "outputId": "38da7a1e-e4ec-48f1-f297-2a5de1e2b01a",
        "colab": {
          "base_uri": "https://localhost:8080/"
        }
      },
      "execution_count": null,
      "outputs": [
        {
          "output_type": "stream",
          "name": "stdout",
          "text": [
            "+---------+----------------------------+\n",
            "|  country|max(cumulative_total_deaths)|\n",
            "+---------+----------------------------+\n",
            "|      USA|                   1026646.0|\n",
            "|   Brazil|                    664920.0|\n",
            "|    India|                    524214.0|\n",
            "|   Russia|                    377571.0|\n",
            "|   Mexico|                    324465.0|\n",
            "|     Peru|                    213023.0|\n",
            "|       UK|                    176708.0|\n",
            "|    Italy|                    165182.0|\n",
            "|Indonesia|                    156453.0|\n",
            "|   France|                    147257.0|\n",
            "+---------+----------------------------+\n",
            "\n"
          ]
        }
      ]
    },
    {
      "cell_type": "code",
      "source": [
        "spark.sql(\"select country, sum(daily_new_deaths) from global_temp.covid group by country order by sum(daily_new_deaths) desc limit 10\").show()"
      ],
      "metadata": {
        "id": "5TlciXjRSh6t",
        "outputId": "86cf1c1f-f127-497f-8631-0b47bff9fecc",
        "colab": {
          "base_uri": "https://localhost:8080/"
        }
      },
      "execution_count": null,
      "outputs": [
        {
          "output_type": "stream",
          "name": "stdout",
          "text": [
            "+---------+---------------------+\n",
            "|  country|sum(daily_new_deaths)|\n",
            "+---------+---------------------+\n",
            "|      USA|            1026646.0|\n",
            "|   Brazil|             664920.0|\n",
            "|    India|             524214.0|\n",
            "|   Russia|             377571.0|\n",
            "|   Mexico|             324463.0|\n",
            "|     Peru|             213020.0|\n",
            "|       UK|             176708.0|\n",
            "|    Italy|             165182.0|\n",
            "|Indonesia|             156453.0|\n",
            "|   France|             147256.0|\n",
            "+---------+---------------------+\n",
            "\n"
          ]
        }
      ]
    },
    {
      "cell_type": "markdown",
      "source": [
        "# Answer 6: For the 10 countries indentified in 5, plot the line charts to show the trend of deaths from Jan 22, 2020 to May 14, 2022. Your horizontal axis should be the date."
      ],
      "metadata": {
        "id": "bCmclXRyUlie"
      }
    },
    {
      "cell_type": "code",
      "source": [
        "import pandas as pd\n",
        "df = spark.sql(\"\"\"SELECT date, country, daily_new_deaths\n",
        "            FROM global_temp.covid \n",
        "            WHERE country IN ('USA','Brazil','India','Russia','Mexico','Peru','UK','Italy','Indonesia','France')\n",
        "            AND date between \"2020-01-22 00:00:00\" AND \"2022-05-14 00:00:00\"\n",
        "            \"\"\").toPandas()"
      ],
      "metadata": {
        "id": "-VD1coDEV-Kq"
      },
      "execution_count": null,
      "outputs": []
    },
    {
      "cell_type": "code",
      "source": [
        "from matplotlib import legend\n",
        "import matplotlib.pyplot as plt\n",
        "import numpy as np\n",
        "\n",
        "x = df['date']\n",
        "y = df['daily_new_deaths']\n",
        "\n",
        "plt.plot(df['date'], df['daily_new_deaths'])\n",
        "\n"
      ],
      "metadata": {
        "id": "-NVLklXfKJIe",
        "colab": {
          "base_uri": "https://localhost:8080/",
          "height": 283
        },
        "outputId": "43227b05-b4e4-44a6-921d-7cdeae83befe"
      },
      "execution_count": null,
      "outputs": [
        {
          "output_type": "execute_result",
          "data": {
            "text/plain": [
              "[<matplotlib.lines.Line2D at 0x7fce4efce910>]"
            ]
          },
          "metadata": {},
          "execution_count": 104
        },
        {
          "output_type": "display_data",
          "data": {
            "text/plain": [
              "<Figure size 432x288 with 1 Axes>"
            ],
            "image/png": "[encoded data removed]"
          },
          "metadata": {
            "needs_background": "light"
          }
        }
      ]
    },
    {
      "cell_type": "markdown",
      "source": [
        "# Answer 7: For each country and date, calculate cumulative recovered cases. Formula: cumulative recovered cases = cumulative_total_cases - active_cases - cumulative_total_deaths."
      ],
      "metadata": {
        "id": "F6P2bz9IKR3y"
      }
    },
    {
      "cell_type": "markdown",
      "source": [
        "# cumulative_recovered_cases by country"
      ],
      "metadata": {
        "id": "8OEbOYJnM9Mp"
      }
    },
    {
      "cell_type": "code",
      "source": [
        "cumulative_recovered_cases_country = spark.sql(\"\"\"SELECT country, sum(cumulative_total_cases - active_cases - cumulative_total_deaths) as cumulative_recovered_cases,max(cumulative_total_cases)\n",
        "              FROM global_temp.covid \n",
        "              group by country\n",
        "              \"\"\").show()"
      ],
      "metadata": {
        "id": "sxvZcD0jKVR9",
        "colab": {
          "base_uri": "https://localhost:8080/"
        },
        "outputId": "ad759090-78b0-4a35-f583-261adb9e949d"
      },
      "execution_count": null,
      "outputs": [
        {
          "output_type": "stream",
          "name": "stdout",
          "text": [
            "+-------------------+--------------------------+---------------------------+\n",
            "|            country|cumulative_recovered_cases|max(cumulative_total_cases)|\n",
            "+-------------------+--------------------------+---------------------------+\n",
            "|China Hong Kong Sar|                      null|                    1208247|\n",
            "|               Chad|                 2467083.0|                       7414|\n",
            "|           Anguilla|                  450223.0|                       2984|\n",
            "|           Paraguay|              1.97642941E8|                     649718|\n",
            "|             Russia|             4.102771379E9|                   18255337|\n",
            "|    China Macao Sar|                      null|                         82|\n",
            "|         Cabo Verde|               1.8347389E7|                      56105|\n",
            "|           Kiribati|                  210438.0|                       3093|\n",
            "|             Guyana|               1.4920968E7|                      63804|\n",
            "|            Eritrea|                 3067316.0|                       9745|\n",
            "|        Philippines|               1.0465482E9|                    3687922|\n",
            "|           Djibouti|                 6885682.0|                      15631|\n",
            "|           Malaysia|              8.69177423E8|                    4475873|\n",
            "|               Fiji|               1.4402563E7|                      64773|\n",
            "|             Malawi|               2.4431221E7|                      85887|\n",
            "|               Iraq|              8.31663481E8|                    2326356|\n",
            "|            Germany|             3.162259085E9|                   25774509|\n",
            "|            Comoros|                 2400196.0|                       8100|\n",
            "|        Afghanistan|               5.8157632E7|                     179243|\n",
            "|           Cambodia|               3.6078066E7|                     136262|\n",
            "+-------------------+--------------------------+---------------------------+\n",
            "only showing top 20 rows\n",
            "\n"
          ]
        }
      ]
    },
    {
      "cell_type": "markdown",
      "source": [
        "#cumulative_recovered_cases by date"
      ],
      "metadata": {
        "id": "1EHwDH-bNCTA"
      }
    },
    {
      "cell_type": "code",
      "source": [
        "spark.sql(\"\"\"SELECT date, sum(cumulative_total_cases - active_cases - cumulative_total_deaths) as cumulative_recovered_cases \n",
        "              FROM global_temp.covid \n",
        "              group by date\n",
        "              \"\"\").show()"
      ],
      "metadata": {
        "id": "pwlSx4QiMv1F",
        "colab": {
          "base_uri": "https://localhost:8080/"
        },
        "outputId": "77454ce4-0118-4793-a8db-b9474e876f6d"
      },
      "execution_count": null,
      "outputs": [
        {
          "output_type": "stream",
          "name": "stdout",
          "text": [
            "+-------------------+--------------------------+\n",
            "|               date|cumulative_recovered_cases|\n",
            "+-------------------+--------------------------+\n",
            "|2020-03-31 00:00:00|                  185740.0|\n",
            "|2020-07-13 00:00:00|                 8558378.0|\n",
            "|2021-07-08 00:00:00|              1.67405132E8|\n",
            "|2021-07-20 00:00:00|              1.71720224E8|\n",
            "|2021-08-27 00:00:00|              1.89971766E8|\n",
            "|2022-01-03 00:00:00|              2.52727059E8|\n",
            "|2022-04-07 00:00:00|               4.3044278E8|\n",
            "|2020-04-11 00:00:00|                  522402.0|\n",
            "|2020-04-12 00:00:00|                  560066.0|\n",
            "|2020-05-13 00:00:00|                 2169393.0|\n",
            "|2021-12-13 00:00:00|              2.40841195E8|\n",
            "|2022-01-02 00:00:00|              2.52031577E8|\n",
            "|2020-09-05 00:00:00|               2.0058918E7|\n",
            "|2021-07-06 00:00:00|              1.66678285E8|\n",
            "|2022-05-01 00:00:00|              4.52512627E8|\n",
            "|2020-06-11 00:00:00|                 4629059.0|\n",
            "|2022-02-25 00:00:00|               3.6767831E8|\n",
            "|2020-06-19 00:00:00|                 5487804.0|\n",
            "|2020-08-24 00:00:00|               1.7181545E7|\n",
            "|2021-05-07 00:00:00|              1.33843533E8|\n",
            "+-------------------+--------------------------+\n",
            "only showing top 20 rows\n",
            "\n"
          ]
        }
      ]
    },
    {
      "cell_type": "markdown",
      "source": [
        "# Answer 8 : Plot the trend of the recovery rate (cumulative recovered cases / cumulative_total_cases) for the period Jan 22, 2020 to May 14, 2022. Your horizontal axis should be the date. Which 5 countries have a relatively higher recovery rate?"
      ],
      "metadata": {
        "id": "9N7TBpObNHNy"
      }
    },
    {
      "cell_type": "code",
      "source": [
        "spark.sql(\"\"\"SELECT country, sum(cumulative_total_cases - active_cases - cumulative_total_deaths)/max(cumulative_total_cases) as recovery_rate\n",
        "              FROM global_temp.covid \n",
        "              group by country\n",
        "              Order by recovery_rate desc\n",
        "              Limit 5\n",
        "              \"\"\").show()"
      ],
      "metadata": {
        "colab": {
          "base_uri": "https://localhost:8080/"
        },
        "id": "usszujKeek14",
        "outputId": "274c5b25-d6b4-483f-a05a-eeabcac9dd34"
      },
      "execution_count": null,
      "outputs": [
        {
          "output_type": "stream",
          "name": "stdout",
          "text": [
            "+--------------+------------------+\n",
            "|       country|     recovery_rate|\n",
            "+--------------+------------------+\n",
            "|Western Sahara|             592.0|\n",
            "|    Tajikistan| 541.5786749482402|\n",
            "|      Djibouti| 440.5144904356727|\n",
            "|  Saudi Arabia|419.53141098715724|\n",
            "|         Ghana| 401.6697482638889|\n",
            "+--------------+------------------+\n",
            "\n"
          ]
        }
      ]
    },
    {
      "cell_type": "code",
      "source": [
        "spark.sql(\"\"\"SELECT country, sum(cumulative_total_cases - active_cases - cumulative_total_deaths)/max(cumulative_total_cases) as recovery_rate\n",
        "              FROM global_temp.covid \n",
        "              group by country\n",
        "              Order by recovery_rate desc\n",
        "              Limit 5\n",
        "              \"\"\").show()"
      ],
      "metadata": {
        "colab": {
          "base_uri": "https://localhost:8080/"
        },
        "id": "n_XKkdvDggQG",
        "outputId": "c5dab582-dcff-4806-b110-b70614f3c65e"
      },
      "execution_count": null,
      "outputs": [
        {
          "output_type": "stream",
          "name": "stdout",
          "text": [
            "+--------------+------------------+\n",
            "|       country|     recovery_rate|\n",
            "+--------------+------------------+\n",
            "|Western Sahara|             592.0|\n",
            "|    Tajikistan| 541.5786749482402|\n",
            "|      Djibouti| 440.5144904356727|\n",
            "|  Saudi Arabia|419.53141098715724|\n",
            "|         Ghana| 401.6697482638889|\n",
            "+--------------+------------------+\n",
            "\n"
          ]
        }
      ]
    },
    {
      "cell_type": "code",
      "source": [
        "Western_Sahara = spark.sql(\"\"\"SELECT (cumulative_total_cases - active_cases - cumulative_total_deaths)/cumulative_total_cases as recovery_rate, date\n",
        "              FROM global_temp.covid \n",
        "              where country = 'Western Sahara'\n",
        "              order by recovery_rate desc\n",
        "              \"\"\")\n",
        "Tajikistan = spark.sql(\"\"\"SELECT country, (cumulative_total_cases - active_cases - cumulative_total_deaths)/cumulative_total_cases as recovery_rate, date\n",
        "              FROM global_temp.covid \n",
        "              where country = 'Tajikistan'\n",
        "              order by recovery_rate desc\n",
        "              \"\"\")\n",
        "Djibouti = spark.sql(\"\"\"SELECT country, (cumulative_total_cases - active_cases - cumulative_total_deaths)/cumulative_total_cases as recovery_rate, date\n",
        "              FROM global_temp.covid \n",
        "              where country = 'Djibouti'\n",
        "              order by recovery_rate desc\n",
        "              \"\"\")\n",
        "Saudi_Arabia = spark.sql(\"\"\"SELECT country, (cumulative_total_cases - active_cases - cumulative_total_deaths)/cumulative_total_cases as recovery_rate, date\n",
        "              FROM global_temp.covid \n",
        "              where country = 'Saudi Arabia'\n",
        "              order by recovery_rate desc\n",
        "              \"\"\")\n",
        "Ghana = spark.sql(\"\"\"SELECT country, (cumulative_total_cases - active_cases - cumulative_total_deaths)/cumulative_total_cases as recovery_rate, date\n",
        "              FROM global_temp.covid \n",
        "              where country = 'Ghana'\n",
        "              order by recovery_rate desc\n",
        "              \"\"\")\n",
        "\n"
      ],
      "metadata": {
        "id": "Gs5S4kHOgo7Y"
      },
      "execution_count": null,
      "outputs": []
    },
    {
      "cell_type": "code",
      "source": [
        "import matplotlib.pyplot as plt\n",
        "plt.plot(Western_Sahara['date'], Western_Sahara['recovery_rate'])\n",
        "plt.plot(Tajikistan['date'], Tajikistan['recovery_rate'])\n",
        "plt.plot(Djibouti['date'], Djibouti['recovery_rate'])\n",
        "plt.plot(Saudi_Arabia['date'], Saudi_Arabia['recovery_rate'])\n",
        "plt.plot(Ghana['date'], Ghana['recovery_rate'])\n",
        "\n"
      ],
      "metadata": {
        "colab": {
          "base_uri": "https://localhost:8080/",
          "height": 641
        },
        "id": "XviWlzRJkXoN",
        "outputId": "c31a2cdb-349c-4285-a40b-4984a2197ac0"
      },
      "execution_count": null,
      "outputs": [
        {
          "output_type": "error",
          "ename": "TypeError",
          "evalue": "ignored",
          "traceback": [
            "\u001b[0;31m---------------------------------------------------------------------------\u001b[0m",
            "\u001b[0;31mTypeError\u001b[0m                                 Traceback (most recent call last)",
            "\u001b[0;32m<ipython-input-124-ebda09bcb025>\u001b[0m in \u001b[0;36m<module>\u001b[0;34m\u001b[0m\n\u001b[1;32m      1\u001b[0m \u001b[0;32mimport\u001b[0m \u001b[0mmatplotlib\u001b[0m\u001b[0;34m.\u001b[0m\u001b[0mpyplot\u001b[0m \u001b[0;32mas\u001b[0m \u001b[0mplt\u001b[0m\u001b[0;34m\u001b[0m\u001b[0;34m\u001b[0m\u001b[0m\n\u001b[0;32m----> 2\u001b[0;31m \u001b[0mplt\u001b[0m\u001b[0;34m.\u001b[0m\u001b[0mplot\u001b[0m\u001b[0;34m(\u001b[0m\u001b[0mWestern_Sahara\u001b[0m\u001b[0;34m[\u001b[0m\u001b[0;34m'date'\u001b[0m\u001b[0;34m]\u001b[0m\u001b[0;34m,\u001b[0m \u001b[0mWestern_Sahara\u001b[0m\u001b[0;34m[\u001b[0m\u001b[0;34m'recovery_rate'\u001b[0m\u001b[0;34m]\u001b[0m\u001b[0;34m)\u001b[0m\u001b[0;34m\u001b[0m\u001b[0;34m\u001b[0m\u001b[0m\n\u001b[0m\u001b[1;32m      3\u001b[0m \u001b[0mplt\u001b[0m\u001b[0;34m.\u001b[0m\u001b[0mplot\u001b[0m\u001b[0;34m(\u001b[0m\u001b[0mTajikistan\u001b[0m\u001b[0;34m[\u001b[0m\u001b[0;34m'date'\u001b[0m\u001b[0;34m]\u001b[0m\u001b[0;34m,\u001b[0m \u001b[0mTajikistan\u001b[0m\u001b[0;34m[\u001b[0m\u001b[0;34m'recovery_rate'\u001b[0m\u001b[0;34m]\u001b[0m\u001b[0;34m)\u001b[0m\u001b[0;34m\u001b[0m\u001b[0;34m\u001b[0m\u001b[0m\n\u001b[1;32m      4\u001b[0m \u001b[0mplt\u001b[0m\u001b[0;34m.\u001b[0m\u001b[0mplot\u001b[0m\u001b[0;34m(\u001b[0m\u001b[0mDjibouti\u001b[0m\u001b[0;34m[\u001b[0m\u001b[0;34m'date'\u001b[0m\u001b[0;34m]\u001b[0m\u001b[0;34m,\u001b[0m \u001b[0mDjibouti\u001b[0m\u001b[0;34m[\u001b[0m\u001b[0;34m'recovery_rate'\u001b[0m\u001b[0;34m]\u001b[0m\u001b[0;34m)\u001b[0m\u001b[0;34m\u001b[0m\u001b[0;34m\u001b[0m\u001b[0m\n\u001b[1;32m      5\u001b[0m \u001b[0mplt\u001b[0m\u001b[0;34m.\u001b[0m\u001b[0mplot\u001b[0m\u001b[0;34m(\u001b[0m\u001b[0mSaudi_Arabia\u001b[0m\u001b[0;34m[\u001b[0m\u001b[0;34m'date'\u001b[0m\u001b[0;34m]\u001b[0m\u001b[0;34m,\u001b[0m \u001b[0mSaudi_Arabia\u001b[0m\u001b[0;34m[\u001b[0m\u001b[0;34m'recovery_rate'\u001b[0m\u001b[0;34m]\u001b[0m\u001b[0;34m)\u001b[0m\u001b[0;34m\u001b[0m\u001b[0;34m\u001b[0m\u001b[0m\n",
            "\u001b[0;32m/usr/local/lib/python3.7/dist-packages/matplotlib/pyplot.py\u001b[0m in \u001b[0;36mplot\u001b[0;34m(scalex, scaley, data, *args, **kwargs)\u001b[0m\n\u001b[1;32m   2761\u001b[0m     return gca().plot(\n\u001b[1;32m   2762\u001b[0m         *args, scalex=scalex, scaley=scaley, **({\"data\": data} if data\n\u001b[0;32m-> 2763\u001b[0;31m         is not None else {}), **kwargs)\n\u001b[0m\u001b[1;32m   2764\u001b[0m \u001b[0;34m\u001b[0m\u001b[0m\n\u001b[1;32m   2765\u001b[0m \u001b[0;34m\u001b[0m\u001b[0m\n",
            "\u001b[0;32m/usr/local/lib/python3.7/dist-packages/matplotlib/axes/_axes.py\u001b[0m in \u001b[0;36mplot\u001b[0;34m(self, scalex, scaley, data, *args, **kwargs)\u001b[0m\n\u001b[1;32m   1645\u001b[0m         \"\"\"\n\u001b[1;32m   1646\u001b[0m         \u001b[0mkwargs\u001b[0m \u001b[0;34m=\u001b[0m \u001b[0mcbook\u001b[0m\u001b[0;34m.\u001b[0m\u001b[0mnormalize_kwargs\u001b[0m\u001b[0;34m(\u001b[0m\u001b[0mkwargs\u001b[0m\u001b[0;34m,\u001b[0m \u001b[0mmlines\u001b[0m\u001b[0;34m.\u001b[0m\u001b[0mLine2D\u001b[0m\u001b[0;34m)\u001b[0m\u001b[0;34m\u001b[0m\u001b[0;34m\u001b[0m\u001b[0m\n\u001b[0;32m-> 1647\u001b[0;31m         \u001b[0mlines\u001b[0m \u001b[0;34m=\u001b[0m \u001b[0;34m[\u001b[0m\u001b[0;34m*\u001b[0m\u001b[0mself\u001b[0m\u001b[0;34m.\u001b[0m\u001b[0m_get_lines\u001b[0m\u001b[0;34m(\u001b[0m\u001b[0;34m*\u001b[0m\u001b[0margs\u001b[0m\u001b[0;34m,\u001b[0m \u001b[0mdata\u001b[0m\u001b[0;34m=\u001b[0m\u001b[0mdata\u001b[0m\u001b[0;34m,\u001b[0m \u001b[0;34m**\u001b[0m\u001b[0mkwargs\u001b[0m\u001b[0;34m)\u001b[0m\u001b[0;34m]\u001b[0m\u001b[0;34m\u001b[0m\u001b[0;34m\u001b[0m\u001b[0m\n\u001b[0m\u001b[1;32m   1648\u001b[0m         \u001b[0;32mfor\u001b[0m \u001b[0mline\u001b[0m \u001b[0;32min\u001b[0m \u001b[0mlines\u001b[0m\u001b[0;34m:\u001b[0m\u001b[0;34m\u001b[0m\u001b[0;34m\u001b[0m\u001b[0m\n\u001b[1;32m   1649\u001b[0m             \u001b[0mself\u001b[0m\u001b[0;34m.\u001b[0m\u001b[0madd_line\u001b[0m\u001b[0;34m(\u001b[0m\u001b[0mline\u001b[0m\u001b[0;34m)\u001b[0m\u001b[0;34m\u001b[0m\u001b[0;34m\u001b[0m\u001b[0m\n",
            "\u001b[0;32m/usr/local/lib/python3.7/dist-packages/matplotlib/axes/_base.py\u001b[0m in \u001b[0;36m__call__\u001b[0;34m(self, *args, **kwargs)\u001b[0m\n\u001b[1;32m    214\u001b[0m                 \u001b[0mthis\u001b[0m \u001b[0;34m+=\u001b[0m \u001b[0margs\u001b[0m\u001b[0;34m[\u001b[0m\u001b[0;36m0\u001b[0m\u001b[0;34m]\u001b[0m\u001b[0;34m,\u001b[0m\u001b[0;34m\u001b[0m\u001b[0;34m\u001b[0m\u001b[0m\n\u001b[1;32m    215\u001b[0m                 \u001b[0margs\u001b[0m \u001b[0;34m=\u001b[0m \u001b[0margs\u001b[0m\u001b[0;34m[\u001b[0m\u001b[0;36m1\u001b[0m\u001b[0;34m:\u001b[0m\u001b[0;34m]\u001b[0m\u001b[0;34m\u001b[0m\u001b[0;34m\u001b[0m\u001b[0m\n\u001b[0;32m--> 216\u001b[0;31m             \u001b[0;32myield\u001b[0m \u001b[0;32mfrom\u001b[0m \u001b[0mself\u001b[0m\u001b[0;34m.\u001b[0m\u001b[0m_plot_args\u001b[0m\u001b[0;34m(\u001b[0m\u001b[0mthis\u001b[0m\u001b[0;34m,\u001b[0m \u001b[0mkwargs\u001b[0m\u001b[0;34m)\u001b[0m\u001b[0;34m\u001b[0m\u001b[0;34m\u001b[0m\u001b[0m\n\u001b[0m\u001b[1;32m    217\u001b[0m \u001b[0;34m\u001b[0m\u001b[0m\n\u001b[1;32m    218\u001b[0m     \u001b[0;32mdef\u001b[0m \u001b[0mget_next_color\u001b[0m\u001b[0;34m(\u001b[0m\u001b[0mself\u001b[0m\u001b[0;34m)\u001b[0m\u001b[0;34m:\u001b[0m\u001b[0;34m\u001b[0m\u001b[0;34m\u001b[0m\u001b[0m\n",
            "\u001b[0;32m/usr/local/lib/python3.7/dist-packages/matplotlib/axes/_base.py\u001b[0m in \u001b[0;36m_plot_args\u001b[0;34m(self, tup, kwargs)\u001b[0m\n\u001b[1;32m    329\u001b[0m \u001b[0;34m\u001b[0m\u001b[0m\n\u001b[1;32m    330\u001b[0m         \u001b[0;32mif\u001b[0m \u001b[0mlen\u001b[0m\u001b[0;34m(\u001b[0m\u001b[0mtup\u001b[0m\u001b[0;34m)\u001b[0m \u001b[0;34m==\u001b[0m \u001b[0;36m2\u001b[0m\u001b[0;34m:\u001b[0m\u001b[0;34m\u001b[0m\u001b[0;34m\u001b[0m\u001b[0m\n\u001b[0;32m--> 331\u001b[0;31m             \u001b[0mx\u001b[0m \u001b[0;34m=\u001b[0m \u001b[0m_check_1d\u001b[0m\u001b[0;34m(\u001b[0m\u001b[0mtup\u001b[0m\u001b[0;34m[\u001b[0m\u001b[0;36m0\u001b[0m\u001b[0;34m]\u001b[0m\u001b[0;34m)\u001b[0m\u001b[0;34m\u001b[0m\u001b[0;34m\u001b[0m\u001b[0m\n\u001b[0m\u001b[1;32m    332\u001b[0m             \u001b[0my\u001b[0m \u001b[0;34m=\u001b[0m \u001b[0m_check_1d\u001b[0m\u001b[0;34m(\u001b[0m\u001b[0mtup\u001b[0m\u001b[0;34m[\u001b[0m\u001b[0;34m-\u001b[0m\u001b[0;36m1\u001b[0m\u001b[0;34m]\u001b[0m\u001b[0;34m)\u001b[0m\u001b[0;34m\u001b[0m\u001b[0;34m\u001b[0m\u001b[0m\n\u001b[1;32m    333\u001b[0m         \u001b[0;32melse\u001b[0m\u001b[0;34m:\u001b[0m\u001b[0;34m\u001b[0m\u001b[0;34m\u001b[0m\u001b[0m\n",
            "\u001b[0;32m/usr/local/lib/python3.7/dist-packages/matplotlib/cbook/__init__.py\u001b[0m in \u001b[0;36m_check_1d\u001b[0;34m(x)\u001b[0m\n\u001b[1;32m   1323\u001b[0m     \u001b[0mdimension\u001b[0m\u001b[0;34m;\u001b[0m \u001b[0mleaves\u001b[0m \u001b[0meverything\u001b[0m \u001b[0;32melse\u001b[0m \u001b[0muntouched\u001b[0m\u001b[0;34m.\u001b[0m\u001b[0;34m\u001b[0m\u001b[0;34m\u001b[0m\u001b[0m\n\u001b[1;32m   1324\u001b[0m     '''\n\u001b[0;32m-> 1325\u001b[0;31m     \u001b[0;32mif\u001b[0m \u001b[0;32mnot\u001b[0m \u001b[0mhasattr\u001b[0m\u001b[0;34m(\u001b[0m\u001b[0mx\u001b[0m\u001b[0;34m,\u001b[0m \u001b[0;34m'shape'\u001b[0m\u001b[0;34m)\u001b[0m \u001b[0;32mor\u001b[0m \u001b[0mlen\u001b[0m\u001b[0;34m(\u001b[0m\u001b[0mx\u001b[0m\u001b[0;34m.\u001b[0m\u001b[0mshape\u001b[0m\u001b[0;34m)\u001b[0m \u001b[0;34m<\u001b[0m \u001b[0;36m1\u001b[0m\u001b[0;34m:\u001b[0m\u001b[0;34m\u001b[0m\u001b[0;34m\u001b[0m\u001b[0m\n\u001b[0m\u001b[1;32m   1326\u001b[0m         \u001b[0;32mreturn\u001b[0m \u001b[0mnp\u001b[0m\u001b[0;34m.\u001b[0m\u001b[0matleast_1d\u001b[0m\u001b[0;34m(\u001b[0m\u001b[0mx\u001b[0m\u001b[0;34m)\u001b[0m\u001b[0;34m\u001b[0m\u001b[0;34m\u001b[0m\u001b[0m\n\u001b[1;32m   1327\u001b[0m     \u001b[0;32melse\u001b[0m\u001b[0;34m:\u001b[0m\u001b[0;34m\u001b[0m\u001b[0;34m\u001b[0m\u001b[0m\n",
            "\u001b[0;31mTypeError\u001b[0m: object of type 'Column' has no len()"
          ]
        },
        {
          "output_type": "display_data",
          "data": {
            "text/plain": [
              "<Figure size 432x288 with 1 Axes>"
            ],
            "image/png": "[encoded data removed]"
          },
          "metadata": {
            "needs_background": "light"
          }
        }
      ]
    },
    {
      "cell_type": "markdown",
      "source": [
        "# Answer 9 : As of May 14, 2022, aggregate the cumulative_total_cases, deaths, recovered cases and active cases group by continent. Hint: Utilize country.csv and the covid dataset."
      ],
      "metadata": {
        "id": "7w6P5AaENSF6"
      }
    },
    {
      "cell_type": "code",
      "source": [
        "sp_country.createOrReplaceGlobalTempView('country')"
      ],
      "metadata": {
        "id": "9B_EG7E9LtWO"
      },
      "execution_count": null,
      "outputs": []
    },
    {
      "cell_type": "code",
      "source": [
        "spark.sql(\"\"\"SELECT country.continent , sum(covid.active_cases) as active_cases \n",
        "                    ,sum(covid.daily_new_cases) as new_cases\n",
        "                    ,sum(covid.cumulative_total_cases) as cumulative_total_cases\n",
        "                    ,sum(covid.cumulative_total_cases - covid.active_cases - covid.cumulative_total_deaths) As Recovery\n",
        "              FROM global_temp.covid AS covid\n",
        "              LEFT JOIN global_temp.country AS country\n",
        "              ON covid.country = country.country\n",
        "              WHERE covid.date = \"2022-05-14 00:00:00\"\n",
        "              GROUP BY country.continent\n",
        "              \"\"\").show()"
      ],
      "metadata": {
        "id": "oVbnYjMXN-gX",
        "colab": {
          "base_uri": "https://localhost:8080/"
        },
        "outputId": "f5857f1f-2991-47cf-96c5-68167c4163a6"
      },
      "execution_count": null,
      "outputs": [
        {
          "output_type": "stream",
          "name": "stdout",
          "text": [
            "+-----------------+------------+---------+----------------------+------------+\n",
            "|        continent|active_cases|new_cases|cumulative_total_cases|    Recovery|\n",
            "+-----------------+------------+---------+----------------------+------------+\n",
            "|           Europe|   5917092.0| 125430.0|             194283695|1.70740686E8|\n",
            "|           Africa|    497713.0|   8831.0|              12042289|  1.013714E7|\n",
            "|Australia/Oceania|    460787.0|  57201.0|               7894793|   7350427.0|\n",
            "|    North America|   3329115.0|  32493.0|              99625466| 9.4817997E7|\n",
            "|    South America|    610922.0|  22807.0|              57131796| 5.1027676E7|\n",
            "|             Asia|   3205440.0| 167821.0|             149855156|1.26081385E8|\n",
            "+-----------------+------------+---------+----------------------+------------+\n",
            "\n"
          ]
        }
      ]
    },
    {
      "cell_type": "markdown",
      "source": [
        "# Answer 10 : Which 5 countries have the highest growth rate on cumulative_total_cases 6 months after the 1st positive case was detected within the country?"
      ],
      "metadata": {
        "id": "DgcZULkAPcj9"
      }
    },
    {
      "cell_type": "code",
      "source": [
        "spark.sql(\"\"\"SELECT country, cumulative_total_cases, date\n",
        "            FROM global_temp.covid\n",
        "            WHERE date IN (SELECT min(dateadd(month,6,date)) FROM global_temp.covid WHERE country IN (SELECT distinct country FROM global_temp.covid))\n",
        "            ORDER BY cumulative_total_cases desc\n",
        "            LIMIT 5\"\"\").show()"
      ],
      "metadata": {
        "id": "qsKO7HARN5NP",
        "colab": {
          "base_uri": "https://localhost:8080/"
        },
        "outputId": "0b13787c-7afa-46e7-c8b7-3a0849db67d5"
      },
      "execution_count": null,
      "outputs": [
        {
          "output_type": "stream",
          "name": "stdout",
          "text": [
            "+-------+----------------------+-------------------+\n",
            "|country|cumulative_total_cases|               date|\n",
            "+-------+----------------------+-------------------+\n",
            "|    USA|               4219424|2020-07-22 00:00:00|\n",
            "| Brazil|               2244342|2020-07-22 00:00:00|\n",
            "|  India|               1239684|2020-07-22 00:00:00|\n",
            "| Russia|                789190|2020-07-22 00:00:00|\n",
            "| Turkey|                604943|2020-07-22 00:00:00|\n",
            "+-------+----------------------+-------------------+\n",
            "\n"
          ]
        }
      ]
    },
    {
      "cell_type": "markdown",
      "source": [
        "# Answer 11 : For step 9, export the results to a JSON file\n",
        "\n",
        "```\n",
        "# This is formatted as code\n",
        "```\n",
        "\n"
      ],
      "metadata": {
        "id": "LNECsbTWtHXS"
      }
    },
    {
      "cell_type": "code",
      "source": [
        "spark.sql(\"\"\"SELECT country.continent , sum(covid.active_cases)\n",
        "              FROM global_temp.covid AS covid\n",
        "              LEFT JOIN global_temp.country AS country\n",
        "              ON covid.country = country.country\n",
        "              WHERE covid.date = \"2022-05-14 00:00:00\"\n",
        "              GROUP BY country.continent\n",
        "              \"\"\").toPandas().to_json(\"json_file.json\")"
      ],
      "metadata": {
        "id": "KdrJDvWyV3vL"
      },
      "execution_count": null,
      "outputs": []
    },
    {
      "cell_type": "code",
      "source": [
        "! ls"
      ],
      "metadata": {
        "colab": {
          "base_uri": "https://localhost:8080/"
        },
        "id": "z9FGmp2BtkUR",
        "outputId": "731a9627-adcd-46dc-bab2-e03d021f9dbd"
      },
      "execution_count": null,
      "outputs": [
        {
          "output_type": "stream",
          "name": "stdout",
          "text": [
            "country.csv  covid-19.csv  drive  json_file.json  sample_data  spark-warehouse\n"
          ]
        }
      ]
    }
  ]
}